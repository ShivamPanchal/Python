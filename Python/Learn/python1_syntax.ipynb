
{
 "cells": [
  {
   "cell_type": "markdown",
   "metadata": {},
   "source": [
    "##### Welcome to Python Learning\n",
    "##### www.datagenx.net\n"
   ]
  },
  {
   "cell_type": "markdown",
   "metadata": {},
   "source": [
    "## variables\n",
    "#### variable can hold any type of value ( int, float or string )"
   ]
  },
  {
   "cell_type": "code",
   "execution_count": 1,
   "metadata": {
    "collapsed": true
   },
   "outputs": [],
   "source": [
    "myName = \"Atul\"   # string data type\n",
    "myAge = 25        # integer data type\n",
    "float_no = 2.0    # float data type\n",
    "myBool = True     # boolean data type"
   ]
  },
  {
   "cell_type": "code",
   "execution_count": 2,
   "metadata": {
    "collapsed": false
   },
   "outputs": [
    {
     "name": "stdout",
     "output_type": "stream",
     "text": [
      "Atul\n",
      "25\n",
      "2.0\n",
      "True\n"
     ]
    }
   ],
   "source": [
    "# you can print your variable with print command\n",
    "print myName      # o/p -> Atul\n",
    "print myAge       # o/p -> 25\n",
    "print float_no    # o/p -> 2.0\n",
    "print myBool      # o/p -> True"
   ]
  },
  {
   "cell_type": "markdown",
   "metadata": {},
   "source": [
    "### Simple math in python"
   ]
  },
  {
   "cell_type": "code",
   "execution_count": 3,
   "metadata": {
    "collapsed": false
   },
   "outputs": [
    {
     "name": "stdout",
     "output_type": "stream",
     "text": [
      "5.4\n",
      "9\n"
     ]
    }
   ],
   "source": [
    "print 2 + 3.4      #  5.4 \n",
    "print 4 + 5        #  9"
   ]
  },
  {
   "cell_type": "code",
   "execution_count": 4,
   "metadata": {
    "collapsed": false
   },
   "outputs": [
    {
     "name": "stdout",
     "output_type": "stream",
     "text": [
      "2.5\n",
      "2.77\n",
      "-0.546\n"
     ]
    }
   ],
   "source": [
    "print 4.5 - 2      #  2.5\n",
    "print 4.22 - 1.45  #  2.77\n",
    "print 9.454 - 10   #  -0.546"
   ]
  },
  {
   "cell_type": "code",
   "execution_count": 5,
   "metadata": {
    "collapsed": false
   },
   "outputs": [
    {
     "name": "stdout",
     "output_type": "stream",
     "text": [
      "8\n",
      "12.8\n",
      "-9\n"
     ]
    }
   ],
   "source": [
    "print 2 * 4        #  8\n",
    "print 3.2 * 4      #  12.8 \n",
    "print -3 * 3       #  -9"
   ]
  },
  {
   "cell_type": "code",
   "execution_count": 6,
   "metadata": {
    "collapsed": false
   },
   "outputs": [
    {
     "name": "stdout",
     "output_type": "stream",
     "text": [
      "5\n",
      "2.1\n"
     ]
    }
   ],
   "source": [
    "print 25 / 5       #  5\n",
    "print 4.2 / 2      #  2.1"
   ]
  },
  {
   "cell_type": "code",
   "execution_count": 7,
   "metadata": {
    "collapsed": false
   },
   "outputs": [
    {
     "name": "stdout",
     "output_type": "stream",
     "text": [
      "1\n"
     ]
    }
   ],
   "source": [
    "print 3 / 2        #  1 , strange !! because it is a integer division, so \n",
    "                   #  python trimmed the decimal part ( in python 2.x  version int/int = int )"
   ]
  },
  {
   "cell_type": "code",
   "execution_count": 8,
   "metadata": {
    "collapsed": false
   },
   "outputs": [
    {
     "name": "stdout",
     "output_type": "stream",
     "text": [
      "1\n",
      "1\n"
     ]
    }
   ],
   "source": [
    "print 3 / 2        # 1.5  in Python 3.x or higher\n",
    "print 3 // 2       # 1    in python 3.x or higher to achive python 2.x int divesion functionality"
   ]
  },
  {
   "cell_type": "code",
   "execution_count": 9,
   "metadata": {
    "collapsed": false
   },
   "outputs": [
    {
     "name": "stdout",
     "output_type": "stream",
     "text": [
      "1.5\n",
      "1.5\n"
     ]
    }
   ],
   "source": [
    "print 3.0 / 2      # 1.5  \n",
    "print 3 / 2.0      # 1.5"
   ]
  },
  {
   "cell_type": "code",
   "execution_count": 10,
   "metadata": {
    "collapsed": false
   },
   "outputs": [
    {
     "name": "stdout",
     "output_type": "stream",
     "text": [
      "9\n",
      "2.0\n",
      "0.0625\n"
     ]
    }
   ],
   "source": [
    "print 3 ** 2       # 9   power function\n",
    "print 4 ** 0.5     # 2.0  sqre root\n",
    "print 4 ** -2      # 0.0625"
   ]
  },
  {
   "cell_type": "code",
   "execution_count": 11,
   "metadata": {
    "collapsed": false
   },
   "outputs": [
    {
     "name": "stdout",
     "output_type": "stream",
     "text": [
      "1\n"
     ]
    }
   ],
   "source": [
    "print 3 % 2 # 1"
   ]
  },
  {
   "cell_type": "code",
   "execution_count": 12,
   "metadata": {
    "collapsed": false
   },
   "outputs": [
    {
     "name": "stdout",
     "output_type": "stream",
     "text": [
      "4250.0\n"
     ]
    }
   ],
   "source": [
    "# Example calculation\n",
    "# calculate the simple interest   SI = P *  R * T / 100\n",
    "# where P - Pricipal amount, R - Rate of Interest, T - Tenure, \n",
    "\n",
    "P = 10000\n",
    "R = 8.5\n",
    "T = 5\n",
    "SI = P * R * T / 100\n",
    "print SI"
   ]
  },
  {
   "cell_type": "code",
   "execution_count": null,
   "metadata": {
    "collapsed": true
   },
   "outputs": [],
   "source": []
  }
 ],
 "metadata": {
  "kernelspec": {
   "display_name": "Python 2",
   "language": "python",
   "name": "python2"
  },
  "language_info": {
   "codemirror_mode": {
    "name": "ipython",
    "version": 2
   },
   "file_extension": ".py",
   "mimetype": "text/x-python",
   "name": "python",
   "nbconvert_exporter": "python",
   "pygments_lexer": "ipython2",
   "version": "2.7.11"
  }
 },
 "nbformat": 4,
 "nbformat_minor": 0
}


